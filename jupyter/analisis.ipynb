{
 "cells": [
  {
   "attachments": {},
   "cell_type": "markdown",
   "metadata": {},
   "source": [
    "# Análisis descriptivo de datos\n",
    "* Datos: Títulos del catálogo de Netflix y Disney Plus\n",
    "* Fuente: Datasets en bucket de Amazon Simple Storage Service\n",
    "* La extracción de datos se realiza en el archivo 'extractS3.py'\n",
    "\n",
    "## Herramientas utilizadas\n",
    "* Lenguaje: Python 3.10.2\n",
    "* Documento Jupyter Notebook\n",
    "* Librerias: \n",
    "    * Pandas\n",
    "    * boto3\n",
    "    * environ"
   ]
  },
  {
   "attachments": {},
   "cell_type": "markdown",
   "metadata": {},
   "source": [
    "### Import de librerias requeridas"
   ]
  },
  {
   "cell_type": "code",
   "execution_count": 1,
   "metadata": {
    "tags": []
   },
   "outputs": [],
   "source": [
    "import pandas as pd\n",
    "import boto3 \n",
    "import botocore\n",
    "import environ"
   ]
  },
  {
   "attachments": {},
   "cell_type": "markdown",
   "metadata": {},
   "source": [
    "### Extracción de datos\n",
    "\n",
    "Se utilizan archivos de tipo \"csv\" extraídos de un bucket de Amazon Simple Storage Services, de la siguiente manera:"
   ]
  },
  {
   "cell_type": "code",
   "execution_count": null,
   "metadata": {},
   "outputs": [],
   "source": [
    "def descargar_archivo_s3(bucket, access_key, secret_access_key, nombre_archivo, ruta_local):\n",
    "    \"\"\"Descarga y almacena archivos de Amazon S3\n",
    "    \n",
    "    Args:\n",
    "      bucket(str): Nombre del bucket del que descargar el archivo\n",
    "      access_key(str): Key para conectarse\n",
    "      secret_access_key(str): Key secreta para conectarse\n",
    "      nombre_archivo(str): Nombre del archivo que se quiere descargar\n",
    "      ruta_local(str): Ruta en la que se va a alojar el archivo descargado, debe incluir el nombre del archivo\n",
    "      \n",
    "    Raises:\n",
    "      ClientError: Se puede ocasionar si el archivo a descargar no existe\n",
    "    \"\"\"\n",
    "    s3 = boto3.client(\n",
    "        service_name='s3', \n",
    "        aws_access_key_id=access_key, \n",
    "        aws_secret_access_key=secret_access_key\n",
    "    ) \n",
    "    try:\n",
    "        s3.download_file(bucket, nombre_archivo, ruta_local) # Descarga el archivo del bucket especificado\n",
    "    except botocore.exceptions.ClientError as e:\n",
    "        if e.response['Error']['Code'] == \"404\": # Si el archivo no existe retorna un error\n",
    "            print(\"El archivo no existe.\")\n",
    "\n",
    "# Se realiza la busqueda y lectura de un archivo .env para buscar las credenciales necesarias\n",
    "env = environ.Env()\n",
    "environ.Env.read_env()\n",
    "\n",
    "# Credenciales para realizar la petición a Amazon S3\n",
    "AWS_ACCESS_KEY_ID = env(\"AWS_ACCESS_KEY_ID\")\n",
    "AWS_SECRET_ACCESS_KEY = env(\"AWS_SECRET_ACCESS_KEY\")\n",
    "\n",
    "descargar_archivo_s3(\"desafio-rkd\", AWS_ACCESS_KEY_ID, AWS_SECRET_ACCESS_KEY, \"disney_plus_titles.csv\", \"disney_plus_titles.csv\")\n",
    "descargar_archivo_s3(\"desafio-rkd\", AWS_ACCESS_KEY_ID, AWS_SECRET_ACCESS_KEY, \"netflix_titles.csv\", \"netflix_titles.csv\")"
   ]
  },
  {
   "attachments": {},
   "cell_type": "markdown",
   "metadata": {},
   "source": [
    "### Estructura de los datos de 'disney_plus_titles.csv'"
   ]
  },
  {
   "cell_type": "code",
   "execution_count": 2,
   "metadata": {},
   "outputs": [
    {
     "data": {
      "text/html": [
       "<div>\n",
       "<style scoped>\n",
       "    .dataframe tbody tr th:only-of-type {\n",
       "        vertical-align: middle;\n",
       "    }\n",
       "\n",
       "    .dataframe tbody tr th {\n",
       "        vertical-align: top;\n",
       "    }\n",
       "\n",
       "    .dataframe thead th {\n",
       "        text-align: right;\n",
       "    }\n",
       "</style>\n",
       "<table border=\"1\" class=\"dataframe\">\n",
       "  <thead>\n",
       "    <tr style=\"text-align: right;\">\n",
       "      <th></th>\n",
       "      <th>show_id</th>\n",
       "      <th>type</th>\n",
       "      <th>title</th>\n",
       "      <th>director</th>\n",
       "      <th>cast</th>\n",
       "      <th>country</th>\n",
       "      <th>date_added</th>\n",
       "      <th>release_year</th>\n",
       "      <th>rating</th>\n",
       "      <th>duration</th>\n",
       "      <th>listed_in</th>\n",
       "      <th>description</th>\n",
       "    </tr>\n",
       "  </thead>\n",
       "  <tbody>\n",
       "    <tr>\n",
       "      <th>0</th>\n",
       "      <td>s1</td>\n",
       "      <td>Movie</td>\n",
       "      <td>Duck the Halls: A Mickey Mouse Christmas Special</td>\n",
       "      <td>Alonso Ramirez Ramos, Dave Wasson</td>\n",
       "      <td>Chris Diamantopoulos, Tony Anselmo, Tress MacN...</td>\n",
       "      <td>NaN</td>\n",
       "      <td>November 26, 2021</td>\n",
       "      <td>2016</td>\n",
       "      <td>TV-G</td>\n",
       "      <td>23 min</td>\n",
       "      <td>Animation, Family</td>\n",
       "      <td>Join Mickey and the gang as they duck the halls!</td>\n",
       "    </tr>\n",
       "    <tr>\n",
       "      <th>1</th>\n",
       "      <td>s2</td>\n",
       "      <td>Movie</td>\n",
       "      <td>Ernest Saves Christmas</td>\n",
       "      <td>John Cherry</td>\n",
       "      <td>Jim Varney, Noelle Parker, Douglas Seale</td>\n",
       "      <td>NaN</td>\n",
       "      <td>November 26, 2021</td>\n",
       "      <td>1988</td>\n",
       "      <td>PG</td>\n",
       "      <td>91 min</td>\n",
       "      <td>Comedy</td>\n",
       "      <td>Santa Claus passes his magic bag to a new St. ...</td>\n",
       "    </tr>\n",
       "    <tr>\n",
       "      <th>2</th>\n",
       "      <td>s3</td>\n",
       "      <td>Movie</td>\n",
       "      <td>Ice Age: A Mammoth Christmas</td>\n",
       "      <td>Karen Disher</td>\n",
       "      <td>Raymond Albert Romano, John Leguizamo, Denis L...</td>\n",
       "      <td>United States</td>\n",
       "      <td>November 26, 2021</td>\n",
       "      <td>2011</td>\n",
       "      <td>TV-G</td>\n",
       "      <td>23 min</td>\n",
       "      <td>Animation, Comedy, Family</td>\n",
       "      <td>Sid the Sloth is on Santa's naughty list.</td>\n",
       "    </tr>\n",
       "    <tr>\n",
       "      <th>3</th>\n",
       "      <td>s4</td>\n",
       "      <td>Movie</td>\n",
       "      <td>The Queen Family Singalong</td>\n",
       "      <td>Hamish Hamilton</td>\n",
       "      <td>Darren Criss, Adam Lambert, Derek Hough, Alexa...</td>\n",
       "      <td>NaN</td>\n",
       "      <td>November 26, 2021</td>\n",
       "      <td>2021</td>\n",
       "      <td>TV-PG</td>\n",
       "      <td>41 min</td>\n",
       "      <td>Musical</td>\n",
       "      <td>This is real life, not just fantasy!</td>\n",
       "    </tr>\n",
       "    <tr>\n",
       "      <th>4</th>\n",
       "      <td>s5</td>\n",
       "      <td>TV Show</td>\n",
       "      <td>The Beatles: Get Back</td>\n",
       "      <td>NaN</td>\n",
       "      <td>John Lennon, Paul McCartney, George Harrison, ...</td>\n",
       "      <td>NaN</td>\n",
       "      <td>November 25, 2021</td>\n",
       "      <td>2021</td>\n",
       "      <td>NaN</td>\n",
       "      <td>1 Season</td>\n",
       "      <td>Docuseries, Historical, Music</td>\n",
       "      <td>A three-part documentary from Peter Jackson ca...</td>\n",
       "    </tr>\n",
       "  </tbody>\n",
       "</table>\n",
       "</div>"
      ],
      "text/plain": [
       "  show_id     type                                             title  \\\n",
       "0      s1    Movie  Duck the Halls: A Mickey Mouse Christmas Special   \n",
       "1      s2    Movie                            Ernest Saves Christmas   \n",
       "2      s3    Movie                      Ice Age: A Mammoth Christmas   \n",
       "3      s4    Movie                        The Queen Family Singalong   \n",
       "4      s5  TV Show                             The Beatles: Get Back   \n",
       "\n",
       "                            director  \\\n",
       "0  Alonso Ramirez Ramos, Dave Wasson   \n",
       "1                        John Cherry   \n",
       "2                       Karen Disher   \n",
       "3                    Hamish Hamilton   \n",
       "4                                NaN   \n",
       "\n",
       "                                                cast        country  \\\n",
       "0  Chris Diamantopoulos, Tony Anselmo, Tress MacN...            NaN   \n",
       "1           Jim Varney, Noelle Parker, Douglas Seale            NaN   \n",
       "2  Raymond Albert Romano, John Leguizamo, Denis L...  United States   \n",
       "3  Darren Criss, Adam Lambert, Derek Hough, Alexa...            NaN   \n",
       "4  John Lennon, Paul McCartney, George Harrison, ...            NaN   \n",
       "\n",
       "          date_added  release_year rating  duration  \\\n",
       "0  November 26, 2021          2016   TV-G    23 min   \n",
       "1  November 26, 2021          1988     PG    91 min   \n",
       "2  November 26, 2021          2011   TV-G    23 min   \n",
       "3  November 26, 2021          2021  TV-PG    41 min   \n",
       "4  November 25, 2021          2021    NaN  1 Season   \n",
       "\n",
       "                       listed_in  \\\n",
       "0              Animation, Family   \n",
       "1                         Comedy   \n",
       "2      Animation, Comedy, Family   \n",
       "3                        Musical   \n",
       "4  Docuseries, Historical, Music   \n",
       "\n",
       "                                         description  \n",
       "0   Join Mickey and the gang as they duck the halls!  \n",
       "1  Santa Claus passes his magic bag to a new St. ...  \n",
       "2          Sid the Sloth is on Santa's naughty list.  \n",
       "3               This is real life, not just fantasy!  \n",
       "4  A three-part documentary from Peter Jackson ca...  "
      ]
     },
     "execution_count": 2,
     "metadata": {},
     "output_type": "execute_result"
    }
   ],
   "source": [
    "# Conversión del archivo csv a un dataframe de Pandas\n",
    "disneyp_titles_df = pd.read_csv(\"disney_plus_titles.csv\")\n",
    "disneyp_titles_df.head()  # Lectura de las primeras 5 filas del dataframe"
   ]
  },
  {
   "cell_type": "code",
   "execution_count": 3,
   "metadata": {},
   "outputs": [
    {
     "data": {
      "text/plain": [
       "(1450, 12)"
      ]
     },
     "execution_count": 3,
     "metadata": {},
     "output_type": "execute_result"
    }
   ],
   "source": [
    "# Se muestran la cantidad de filas y columnas del dataframe\n",
    "disneyp_titles_df.shape"
   ]
  },
  {
   "cell_type": "code",
   "execution_count": 3,
   "metadata": {},
   "outputs": [
    {
     "data": {
      "text/plain": [
       "show_id         object\n",
       "type            object\n",
       "title           object\n",
       "director        object\n",
       "cast            object\n",
       "country         object\n",
       "date_added      object\n",
       "release_year     int64\n",
       "rating          object\n",
       "duration        object\n",
       "listed_in       object\n",
       "description     object\n",
       "dtype: object"
      ]
     },
     "execution_count": 3,
     "metadata": {},
     "output_type": "execute_result"
    }
   ],
   "source": [
    "# Se muestran los tipos de datos por cada columna\n",
    "disneyp_titles_df.dtypes"
   ]
  },
  {
   "attachments": {},
   "cell_type": "markdown",
   "metadata": {},
   "source": [
    "### Estructura de datos de 'netflix_titles.csv'"
   ]
  },
  {
   "cell_type": "code",
   "execution_count": 3,
   "metadata": {},
   "outputs": [
    {
     "data": {
      "text/html": [
       "<div>\n",
       "<style scoped>\n",
       "    .dataframe tbody tr th:only-of-type {\n",
       "        vertical-align: middle;\n",
       "    }\n",
       "\n",
       "    .dataframe tbody tr th {\n",
       "        vertical-align: top;\n",
       "    }\n",
       "\n",
       "    .dataframe thead th {\n",
       "        text-align: right;\n",
       "    }\n",
       "</style>\n",
       "<table border=\"1\" class=\"dataframe\">\n",
       "  <thead>\n",
       "    <tr style=\"text-align: right;\">\n",
       "      <th></th>\n",
       "      <th>show_id</th>\n",
       "      <th>type</th>\n",
       "      <th>title</th>\n",
       "      <th>director</th>\n",
       "      <th>cast</th>\n",
       "      <th>country</th>\n",
       "      <th>date_added</th>\n",
       "      <th>release_year</th>\n",
       "      <th>rating</th>\n",
       "      <th>duration</th>\n",
       "      <th>listed_in</th>\n",
       "      <th>description</th>\n",
       "    </tr>\n",
       "  </thead>\n",
       "  <tbody>\n",
       "    <tr>\n",
       "      <th>0</th>\n",
       "      <td>s1</td>\n",
       "      <td>Movie</td>\n",
       "      <td>Dick Johnson Is Dead</td>\n",
       "      <td>Kirsten Johnson</td>\n",
       "      <td>NaN</td>\n",
       "      <td>United States</td>\n",
       "      <td>September 25, 2021</td>\n",
       "      <td>2020</td>\n",
       "      <td>PG-13</td>\n",
       "      <td>90 min</td>\n",
       "      <td>Documentaries</td>\n",
       "      <td>As her father nears the end of his life, filmm...</td>\n",
       "    </tr>\n",
       "    <tr>\n",
       "      <th>1</th>\n",
       "      <td>s2</td>\n",
       "      <td>TV Show</td>\n",
       "      <td>Blood &amp; Water</td>\n",
       "      <td>NaN</td>\n",
       "      <td>Ama Qamata, Khosi Ngema, Gail Mabalane, Thaban...</td>\n",
       "      <td>South Africa</td>\n",
       "      <td>September 24, 2021</td>\n",
       "      <td>2021</td>\n",
       "      <td>TV-MA</td>\n",
       "      <td>2 Seasons</td>\n",
       "      <td>International TV Shows, TV Dramas, TV Mysteries</td>\n",
       "      <td>After crossing paths at a party, a Cape Town t...</td>\n",
       "    </tr>\n",
       "    <tr>\n",
       "      <th>2</th>\n",
       "      <td>s3</td>\n",
       "      <td>TV Show</td>\n",
       "      <td>Ganglands</td>\n",
       "      <td>Julien Leclercq</td>\n",
       "      <td>Sami Bouajila, Tracy Gotoas, Samuel Jouy, Nabi...</td>\n",
       "      <td>NaN</td>\n",
       "      <td>September 24, 2021</td>\n",
       "      <td>2021</td>\n",
       "      <td>TV-MA</td>\n",
       "      <td>1 Season</td>\n",
       "      <td>Crime TV Shows, International TV Shows, TV Act...</td>\n",
       "      <td>To protect his family from a powerful drug lor...</td>\n",
       "    </tr>\n",
       "    <tr>\n",
       "      <th>3</th>\n",
       "      <td>s4</td>\n",
       "      <td>TV Show</td>\n",
       "      <td>Jailbirds New Orleans</td>\n",
       "      <td>NaN</td>\n",
       "      <td>NaN</td>\n",
       "      <td>NaN</td>\n",
       "      <td>September 24, 2021</td>\n",
       "      <td>2021</td>\n",
       "      <td>TV-MA</td>\n",
       "      <td>1 Season</td>\n",
       "      <td>Docuseries, Reality TV</td>\n",
       "      <td>Feuds, flirtations and toilet talk go down amo...</td>\n",
       "    </tr>\n",
       "    <tr>\n",
       "      <th>4</th>\n",
       "      <td>s5</td>\n",
       "      <td>TV Show</td>\n",
       "      <td>Kota Factory</td>\n",
       "      <td>NaN</td>\n",
       "      <td>Mayur More, Jitendra Kumar, Ranjan Raj, Alam K...</td>\n",
       "      <td>India</td>\n",
       "      <td>September 24, 2021</td>\n",
       "      <td>2021</td>\n",
       "      <td>TV-MA</td>\n",
       "      <td>2 Seasons</td>\n",
       "      <td>International TV Shows, Romantic TV Shows, TV ...</td>\n",
       "      <td>In a city of coaching centers known to train I...</td>\n",
       "    </tr>\n",
       "  </tbody>\n",
       "</table>\n",
       "</div>"
      ],
      "text/plain": [
       "  show_id     type                  title         director  \\\n",
       "0      s1    Movie   Dick Johnson Is Dead  Kirsten Johnson   \n",
       "1      s2  TV Show          Blood & Water              NaN   \n",
       "2      s3  TV Show              Ganglands  Julien Leclercq   \n",
       "3      s4  TV Show  Jailbirds New Orleans              NaN   \n",
       "4      s5  TV Show           Kota Factory              NaN   \n",
       "\n",
       "                                                cast        country  \\\n",
       "0                                                NaN  United States   \n",
       "1  Ama Qamata, Khosi Ngema, Gail Mabalane, Thaban...   South Africa   \n",
       "2  Sami Bouajila, Tracy Gotoas, Samuel Jouy, Nabi...            NaN   \n",
       "3                                                NaN            NaN   \n",
       "4  Mayur More, Jitendra Kumar, Ranjan Raj, Alam K...          India   \n",
       "\n",
       "           date_added release_year rating   duration  \\\n",
       "0  September 25, 2021         2020  PG-13     90 min   \n",
       "1  September 24, 2021         2021  TV-MA  2 Seasons   \n",
       "2  September 24, 2021         2021  TV-MA   1 Season   \n",
       "3  September 24, 2021         2021  TV-MA   1 Season   \n",
       "4  September 24, 2021         2021  TV-MA  2 Seasons   \n",
       "\n",
       "                                           listed_in  \\\n",
       "0                                      Documentaries   \n",
       "1    International TV Shows, TV Dramas, TV Mysteries   \n",
       "2  Crime TV Shows, International TV Shows, TV Act...   \n",
       "3                             Docuseries, Reality TV   \n",
       "4  International TV Shows, Romantic TV Shows, TV ...   \n",
       "\n",
       "                                         description  \n",
       "0  As her father nears the end of his life, filmm...  \n",
       "1  After crossing paths at a party, a Cape Town t...  \n",
       "2  To protect his family from a powerful drug lor...  \n",
       "3  Feuds, flirtations and toilet talk go down amo...  \n",
       "4  In a city of coaching centers known to train I...  "
      ]
     },
     "execution_count": 3,
     "metadata": {},
     "output_type": "execute_result"
    }
   ],
   "source": [
    "# Se utiliza \"sep\" para indicar que las celdas están separadas por ';' en el archivo csv\n",
    "# Si no se especifica este parámetro se genera un error porque Pandas separa celdas con ',' por defecto\n",
    "netflix_titles_df = pd.read_csv(\"netflix_titles.csv\", sep=';')\n",
    "netflix_titles_df.head()"
   ]
  },
  {
   "cell_type": "code",
   "execution_count": 18,
   "metadata": {},
   "outputs": [
    {
     "data": {
      "text/plain": [
       "(8807, 12)"
      ]
     },
     "execution_count": 18,
     "metadata": {},
     "output_type": "execute_result"
    }
   ],
   "source": [
    "# Se muestran la cantidad de filas y columnas del dataframe\n",
    "netflix_titles_df.shape"
   ]
  },
  {
   "cell_type": "code",
   "execution_count": 7,
   "metadata": {},
   "outputs": [
    {
     "data": {
      "text/plain": [
       "show_id         object\n",
       "type            object\n",
       "title           object\n",
       "director        object\n",
       "cast            object\n",
       "country         object\n",
       "date_added      object\n",
       "release_year    object\n",
       "rating          object\n",
       "duration        object\n",
       "listed_in       object\n",
       "description     object\n",
       "dtype: object"
      ]
     },
     "execution_count": 7,
     "metadata": {},
     "output_type": "execute_result"
    }
   ],
   "source": [
    "# Se muestran los tipos de datos por cada columna\n",
    "netflix_titles_df.dtypes"
   ]
  },
  {
   "attachments": {},
   "cell_type": "markdown",
   "metadata": {},
   "source": [
    "### Control y limpieza de datos\n",
    "\n",
    "Este punto se puede ver reflejado de manera mas completa y funcional en el archivo \"transform_catalogs.py\".\n",
    "\n",
    "### Limpieza de datos erróneos\n",
    "\n",
    "* Para la detección de errores se va a establecer una condición donde el campo \"show_id\" comience con el caracter 's'."
   ]
  },
  {
   "cell_type": "code",
   "execution_count": 8,
   "metadata": {},
   "outputs": [
    {
     "data": {
      "text/html": [
       "<div>\n",
       "<style scoped>\n",
       "    .dataframe tbody tr th:only-of-type {\n",
       "        vertical-align: middle;\n",
       "    }\n",
       "\n",
       "    .dataframe tbody tr th {\n",
       "        vertical-align: top;\n",
       "    }\n",
       "\n",
       "    .dataframe thead th {\n",
       "        text-align: right;\n",
       "    }\n",
       "</style>\n",
       "<table border=\"1\" class=\"dataframe\">\n",
       "  <thead>\n",
       "    <tr style=\"text-align: right;\">\n",
       "      <th></th>\n",
       "      <th>show_id</th>\n",
       "      <th>type</th>\n",
       "      <th>title</th>\n",
       "      <th>director</th>\n",
       "      <th>cast</th>\n",
       "      <th>country</th>\n",
       "      <th>date_added</th>\n",
       "      <th>release_year</th>\n",
       "      <th>rating</th>\n",
       "      <th>duration</th>\n",
       "      <th>listed_in</th>\n",
       "      <th>description</th>\n",
       "    </tr>\n",
       "  </thead>\n",
       "  <tbody>\n",
       "    <tr>\n",
       "      <th>8202</th>\n",
       "      <td>and probably will.\"</td>\n",
       "      <td>NaN</td>\n",
       "      <td>NaN</td>\n",
       "      <td>NaN</td>\n",
       "      <td>NaN</td>\n",
       "      <td>NaN</td>\n",
       "      <td>NaN</td>\n",
       "      <td>NaN</td>\n",
       "      <td>NaN</td>\n",
       "      <td>NaN</td>\n",
       "      <td>NaN</td>\n",
       "      <td>NaN</td>\n",
       "    </tr>\n",
       "    <tr>\n",
       "      <th>8421</th>\n",
       "      <td>Flying Fortress\"</td>\n",
       "      <td>William Wyler</td>\n",
       "      <td>NaN</td>\n",
       "      <td>United States</td>\n",
       "      <td>March 31, 2017</td>\n",
       "      <td>1944</td>\n",
       "      <td>TV-PG</td>\n",
       "      <td>40 min</td>\n",
       "      <td>Classic Movies, Documentaries</td>\n",
       "      <td>This documentary centers on the crew of the B-...</td>\n",
       "      <td>NaN</td>\n",
       "      <td>NaN</td>\n",
       "    </tr>\n",
       "  </tbody>\n",
       "</table>\n",
       "</div>"
      ],
      "text/plain": [
       "                   show_id           type title       director  \\\n",
       "8202   and probably will.\"            NaN   NaN            NaN   \n",
       "8421      Flying Fortress\"  William Wyler   NaN  United States   \n",
       "\n",
       "                cast country date_added release_year  \\\n",
       "8202             NaN     NaN        NaN          NaN   \n",
       "8421  March 31, 2017    1944      TV-PG       40 min   \n",
       "\n",
       "                             rating  \\\n",
       "8202                            NaN   \n",
       "8421  Classic Movies, Documentaries   \n",
       "\n",
       "                                               duration listed_in description  \n",
       "8202                                                NaN       NaN         NaN  \n",
       "8421  This documentary centers on the crew of the B-...       NaN         NaN  "
      ]
     },
     "execution_count": 8,
     "metadata": {},
     "output_type": "execute_result"
    }
   ],
   "source": [
    "netflix_titles_df[~netflix_titles_df.show_id.str.startswith('s')]"
   ]
  },
  {
   "cell_type": "code",
   "execution_count": 4,
   "metadata": {},
   "outputs": [],
   "source": [
    "# Se eliminan las filas que cumplan la condición anteriormente mostrada\n",
    "# \".index\" devuelve el indice de las filas que cumplan con la condición, mientras que \"inplace\" realiza la eliminación en el mismo\n",
    "# dataframe y no hay que reasignarlo a la misma u otra variable\n",
    "netflix_titles_df.drop(netflix_titles_df[~netflix_titles_df.show_id.str.startswith('s')].index, inplace=True)"
   ]
  },
  {
   "cell_type": "code",
   "execution_count": 10,
   "metadata": {},
   "outputs": [
    {
     "data": {
      "text/html": [
       "<div>\n",
       "<style scoped>\n",
       "    .dataframe tbody tr th:only-of-type {\n",
       "        vertical-align: middle;\n",
       "    }\n",
       "\n",
       "    .dataframe tbody tr th {\n",
       "        vertical-align: top;\n",
       "    }\n",
       "\n",
       "    .dataframe thead th {\n",
       "        text-align: right;\n",
       "    }\n",
       "</style>\n",
       "<table border=\"1\" class=\"dataframe\">\n",
       "  <thead>\n",
       "    <tr style=\"text-align: right;\">\n",
       "      <th></th>\n",
       "      <th>show_id</th>\n",
       "      <th>type</th>\n",
       "      <th>title</th>\n",
       "      <th>director</th>\n",
       "      <th>cast</th>\n",
       "      <th>country</th>\n",
       "      <th>date_added</th>\n",
       "      <th>release_year</th>\n",
       "      <th>rating</th>\n",
       "      <th>duration</th>\n",
       "      <th>listed_in</th>\n",
       "      <th>description</th>\n",
       "    </tr>\n",
       "  </thead>\n",
       "  <tbody>\n",
       "  </tbody>\n",
       "</table>\n",
       "</div>"
      ],
      "text/plain": [
       "Empty DataFrame\n",
       "Columns: [show_id, type, title, director, cast, country, date_added, release_year, rating, duration, listed_in, description]\n",
       "Index: []"
      ]
     },
     "execution_count": 10,
     "metadata": {},
     "output_type": "execute_result"
    }
   ],
   "source": [
    "# En este caso no es necesario realizar la eliminación de filas, como se observa\n",
    "disneyp_titles_df[~disneyp_titles_df.show_id.str.startswith('s')]"
   ]
  },
  {
   "attachments": {},
   "cell_type": "markdown",
   "metadata": {},
   "source": [
    "* Por otro lado, hay que establecer una condición en la que el campo \"title\" no sea \"NaN\", ya que el dato no serviría.\n",
    "\n",
    "(Si no se realiza la eliminación bajo la condición anterior, entonces si habrían filas con \"title\" como \"NaN\")"
   ]
  },
  {
   "cell_type": "code",
   "execution_count": 11,
   "metadata": {},
   "outputs": [
    {
     "data": {
      "text/html": [
       "<div>\n",
       "<style scoped>\n",
       "    .dataframe tbody tr th:only-of-type {\n",
       "        vertical-align: middle;\n",
       "    }\n",
       "\n",
       "    .dataframe tbody tr th {\n",
       "        vertical-align: top;\n",
       "    }\n",
       "\n",
       "    .dataframe thead th {\n",
       "        text-align: right;\n",
       "    }\n",
       "</style>\n",
       "<table border=\"1\" class=\"dataframe\">\n",
       "  <thead>\n",
       "    <tr style=\"text-align: right;\">\n",
       "      <th></th>\n",
       "      <th>show_id</th>\n",
       "      <th>type</th>\n",
       "      <th>title</th>\n",
       "      <th>director</th>\n",
       "      <th>cast</th>\n",
       "      <th>country</th>\n",
       "      <th>date_added</th>\n",
       "      <th>release_year</th>\n",
       "      <th>rating</th>\n",
       "      <th>duration</th>\n",
       "      <th>listed_in</th>\n",
       "      <th>description</th>\n",
       "    </tr>\n",
       "  </thead>\n",
       "  <tbody>\n",
       "  </tbody>\n",
       "</table>\n",
       "</div>"
      ],
      "text/plain": [
       "Empty DataFrame\n",
       "Columns: [show_id, type, title, director, cast, country, date_added, release_year, rating, duration, listed_in, description]\n",
       "Index: []"
      ]
     },
     "execution_count": 11,
     "metadata": {},
     "output_type": "execute_result"
    }
   ],
   "source": [
    "\n",
    "netflix_titles_df[pd.isnull(netflix_titles_df.title)]"
   ]
  },
  {
   "cell_type": "code",
   "execution_count": 12,
   "metadata": {},
   "outputs": [
    {
     "data": {
      "text/html": [
       "<div>\n",
       "<style scoped>\n",
       "    .dataframe tbody tr th:only-of-type {\n",
       "        vertical-align: middle;\n",
       "    }\n",
       "\n",
       "    .dataframe tbody tr th {\n",
       "        vertical-align: top;\n",
       "    }\n",
       "\n",
       "    .dataframe thead th {\n",
       "        text-align: right;\n",
       "    }\n",
       "</style>\n",
       "<table border=\"1\" class=\"dataframe\">\n",
       "  <thead>\n",
       "    <tr style=\"text-align: right;\">\n",
       "      <th></th>\n",
       "      <th>show_id</th>\n",
       "      <th>type</th>\n",
       "      <th>title</th>\n",
       "      <th>director</th>\n",
       "      <th>cast</th>\n",
       "      <th>country</th>\n",
       "      <th>date_added</th>\n",
       "      <th>release_year</th>\n",
       "      <th>rating</th>\n",
       "      <th>duration</th>\n",
       "      <th>listed_in</th>\n",
       "      <th>description</th>\n",
       "    </tr>\n",
       "  </thead>\n",
       "  <tbody>\n",
       "  </tbody>\n",
       "</table>\n",
       "</div>"
      ],
      "text/plain": [
       "Empty DataFrame\n",
       "Columns: [show_id, type, title, director, cast, country, date_added, release_year, rating, duration, listed_in, description]\n",
       "Index: []"
      ]
     },
     "execution_count": 12,
     "metadata": {},
     "output_type": "execute_result"
    }
   ],
   "source": [
    "disneyp_titles_df[pd.isnull(disneyp_titles_df.title)]"
   ]
  },
  {
   "attachments": {},
   "cell_type": "markdown",
   "metadata": {},
   "source": [
    "* Por último se deben observar aquellas filas donde solo haya datos \"NaN\"."
   ]
  },
  {
   "cell_type": "code",
   "execution_count": 13,
   "metadata": {},
   "outputs": [
    {
     "data": {
      "text/html": [
       "<div>\n",
       "<style scoped>\n",
       "    .dataframe tbody tr th:only-of-type {\n",
       "        vertical-align: middle;\n",
       "    }\n",
       "\n",
       "    .dataframe tbody tr th {\n",
       "        vertical-align: top;\n",
       "    }\n",
       "\n",
       "    .dataframe thead th {\n",
       "        text-align: right;\n",
       "    }\n",
       "</style>\n",
       "<table border=\"1\" class=\"dataframe\">\n",
       "  <thead>\n",
       "    <tr style=\"text-align: right;\">\n",
       "      <th></th>\n",
       "      <th>show_id</th>\n",
       "      <th>type</th>\n",
       "      <th>title</th>\n",
       "      <th>director</th>\n",
       "      <th>cast</th>\n",
       "      <th>country</th>\n",
       "      <th>date_added</th>\n",
       "      <th>release_year</th>\n",
       "      <th>rating</th>\n",
       "      <th>duration</th>\n",
       "      <th>listed_in</th>\n",
       "      <th>description</th>\n",
       "    </tr>\n",
       "  </thead>\n",
       "  <tbody>\n",
       "  </tbody>\n",
       "</table>\n",
       "</div>"
      ],
      "text/plain": [
       "Empty DataFrame\n",
       "Columns: [show_id, type, title, director, cast, country, date_added, release_year, rating, duration, listed_in, description]\n",
       "Index: []"
      ]
     },
     "execution_count": 13,
     "metadata": {},
     "output_type": "execute_result"
    }
   ],
   "source": [
    "netflix_titles_df[netflix_titles_df.isnull().all(1)]"
   ]
  },
  {
   "cell_type": "code",
   "execution_count": 14,
   "metadata": {},
   "outputs": [
    {
     "data": {
      "text/html": [
       "<div>\n",
       "<style scoped>\n",
       "    .dataframe tbody tr th:only-of-type {\n",
       "        vertical-align: middle;\n",
       "    }\n",
       "\n",
       "    .dataframe tbody tr th {\n",
       "        vertical-align: top;\n",
       "    }\n",
       "\n",
       "    .dataframe thead th {\n",
       "        text-align: right;\n",
       "    }\n",
       "</style>\n",
       "<table border=\"1\" class=\"dataframe\">\n",
       "  <thead>\n",
       "    <tr style=\"text-align: right;\">\n",
       "      <th></th>\n",
       "      <th>show_id</th>\n",
       "      <th>type</th>\n",
       "      <th>title</th>\n",
       "      <th>director</th>\n",
       "      <th>cast</th>\n",
       "      <th>country</th>\n",
       "      <th>date_added</th>\n",
       "      <th>release_year</th>\n",
       "      <th>rating</th>\n",
       "      <th>duration</th>\n",
       "      <th>listed_in</th>\n",
       "      <th>description</th>\n",
       "    </tr>\n",
       "  </thead>\n",
       "  <tbody>\n",
       "  </tbody>\n",
       "</table>\n",
       "</div>"
      ],
      "text/plain": [
       "Empty DataFrame\n",
       "Columns: [show_id, type, title, director, cast, country, date_added, release_year, rating, duration, listed_in, description]\n",
       "Index: []"
      ]
     },
     "execution_count": 14,
     "metadata": {},
     "output_type": "execute_result"
    }
   ],
   "source": [
    "disneyp_titles_df[disneyp_titles_df.isnull().all(1)]"
   ]
  },
  {
   "attachments": {},
   "cell_type": "markdown",
   "metadata": {},
   "source": [
    "### Arreglos en la inferencia de tipos de Pandas"
   ]
  },
  {
   "attachments": {},
   "cell_type": "markdown",
   "metadata": {},
   "source": [
    "En 'netflix_titles_df':"
   ]
  },
  {
   "cell_type": "code",
   "execution_count": 212,
   "metadata": {},
   "outputs": [
    {
     "data": {
      "text/plain": [
       "show_id         object\n",
       "type            object\n",
       "title           object\n",
       "director        object\n",
       "cast            object\n",
       "country         object\n",
       "date_added      object\n",
       "release_year    object\n",
       "rating          object\n",
       "duration        object\n",
       "listed_in       object\n",
       "description     object\n",
       "dtype: object"
      ]
     },
     "execution_count": 212,
     "metadata": {},
     "output_type": "execute_result"
    }
   ],
   "source": [
    "netflix_titles_df.dtypes"
   ]
  },
  {
   "attachments": {},
   "cell_type": "markdown",
   "metadata": {},
   "source": [
    "\n",
    "* Se debe cambiar el tipo de dato de \"date_added\" por datos de tipo datetime, no sin antes cambiar los que sean \"NaN\" por una fecha estándar, como \"January, 1, 0\".\n",
    "* Se debe cambiar el tipo de dato de \"release_year\" por datos de tipo int64, también cambiando los que sean \"NaN\" por el número 0. "
   ]
  },
  {
   "cell_type": "code",
   "execution_count": 5,
   "metadata": {},
   "outputs": [
    {
     "data": {
      "text/plain": [
       "show_id                 object\n",
       "type                    object\n",
       "title                   object\n",
       "director                object\n",
       "cast                    object\n",
       "country                 object\n",
       "date_added      datetime64[ns]\n",
       "release_year             int64\n",
       "rating                  object\n",
       "duration                object\n",
       "listed_in               object\n",
       "description             object\n",
       "dtype: object"
      ]
     },
     "execution_count": 5,
     "metadata": {},
     "output_type": "execute_result"
    }
   ],
   "source": [
    "netflix_titles_df.date_added = netflix_titles_df.date_added.fillna(\"January, 1, 0\")\n",
    "netflix_titles_df.date_added = pd.to_datetime(netflix_titles_df.date_added)\n",
    "\n",
    "netflix_titles_df.release_year = netflix_titles_df.release_year.fillna(0)\n",
    "netflix_titles_df.release_year = netflix_titles_df.release_year.astype('int64')\n",
    "\n",
    "netflix_titles_df.dtypes"
   ]
  },
  {
   "attachments": {},
   "cell_type": "markdown",
   "metadata": {},
   "source": [
    "En 'disneyp_titles_df':\n"
   ]
  },
  {
   "cell_type": "code",
   "execution_count": 218,
   "metadata": {},
   "outputs": [
    {
     "data": {
      "text/plain": [
       "show_id         object\n",
       "type            object\n",
       "title           object\n",
       "director        object\n",
       "cast            object\n",
       "country         object\n",
       "date_added      object\n",
       "release_year     int64\n",
       "rating          object\n",
       "duration        object\n",
       "listed_in       object\n",
       "description     object\n",
       "dtype: object"
      ]
     },
     "execution_count": 218,
     "metadata": {},
     "output_type": "execute_result"
    }
   ],
   "source": [
    "disneyp_titles_df.dtypes"
   ]
  },
  {
   "attachments": {},
   "cell_type": "markdown",
   "metadata": {},
   "source": [
    "* Se debe cambiar el tipo de dato de \"date_added\" por datos de tipo datetime, no sin antes cambiar los que sean \"NaN\" por una fecha estándar, como \"January, 1, 0\""
   ]
  },
  {
   "cell_type": "code",
   "execution_count": 6,
   "metadata": {},
   "outputs": [
    {
     "data": {
      "text/plain": [
       "show_id                 object\n",
       "type                    object\n",
       "title                   object\n",
       "director                object\n",
       "cast                    object\n",
       "country                 object\n",
       "date_added      datetime64[ns]\n",
       "release_year             int64\n",
       "rating                  object\n",
       "duration                object\n",
       "listed_in               object\n",
       "description             object\n",
       "dtype: object"
      ]
     },
     "execution_count": 6,
     "metadata": {},
     "output_type": "execute_result"
    }
   ],
   "source": [
    "disneyp_titles_df.date_added = disneyp_titles_df.date_added.fillna(\"January, 1, 0\")\n",
    "disneyp_titles_df.date_added = pd.to_datetime(disneyp_titles_df.date_added)\n",
    "\n",
    "disneyp_titles_df.dtypes"
   ]
  },
  {
   "attachments": {},
   "cell_type": "markdown",
   "metadata": {},
   "source": [
    "### Comparación entre catálogos\n",
    "\n",
    "* Inconsistencia de datos en uno o ambos catálogos\n",
    "\n",
    "Si se hace un inner join entre los dos catálogos de las plataformas para observar cuales shows pertenecen a ambos catálgos (Disney Plus y Netflix), se puede observar que hay datos que deberían ser iguales en ambos catálogos, asi como \"release_date\" o \"type\", pero no tienen el mismo valor.\n",
    "Esto genera una inconsistencia en los datos que no permite saber cuál es el correcto.\n",
    "Como solución se propone incluir un tercer catálogo para comparar datos y verificar cuáles pueden llegar a ser consistentes y cuáles no."
   ]
  },
  {
   "cell_type": "code",
   "execution_count": 7,
   "metadata": {},
   "outputs": [
    {
     "data": {
      "text/html": [
       "<div>\n",
       "<style scoped>\n",
       "    .dataframe tbody tr th:only-of-type {\n",
       "        vertical-align: middle;\n",
       "    }\n",
       "\n",
       "    .dataframe tbody tr th {\n",
       "        vertical-align: top;\n",
       "    }\n",
       "\n",
       "    .dataframe thead th {\n",
       "        text-align: right;\n",
       "    }\n",
       "</style>\n",
       "<table border=\"1\" class=\"dataframe\">\n",
       "  <thead>\n",
       "    <tr style=\"text-align: right;\">\n",
       "      <th></th>\n",
       "      <th>show_id_x</th>\n",
       "      <th>type_x</th>\n",
       "      <th>title</th>\n",
       "      <th>director_x</th>\n",
       "      <th>cast_x</th>\n",
       "      <th>country_x</th>\n",
       "      <th>date_added_x</th>\n",
       "      <th>release_year_x</th>\n",
       "      <th>rating_x</th>\n",
       "      <th>duration_x</th>\n",
       "      <th>...</th>\n",
       "      <th>type_y</th>\n",
       "      <th>director_y</th>\n",
       "      <th>cast_y</th>\n",
       "      <th>country_y</th>\n",
       "      <th>date_added_y</th>\n",
       "      <th>release_year_y</th>\n",
       "      <th>rating_y</th>\n",
       "      <th>duration_y</th>\n",
       "      <th>listed_in_y</th>\n",
       "      <th>description_y</th>\n",
       "    </tr>\n",
       "  </thead>\n",
       "  <tbody>\n",
       "    <tr>\n",
       "      <th>0</th>\n",
       "      <td>s1015</td>\n",
       "      <td>TV Show</td>\n",
       "      <td>PJ Masks</td>\n",
       "      <td>NaN</td>\n",
       "      <td>Jacob Ewaniuk, Kyle Breitkopf, Addison Holley</td>\n",
       "      <td>France, United Kingdom</td>\n",
       "      <td>2021-04-19</td>\n",
       "      <td>2019</td>\n",
       "      <td>TV-Y</td>\n",
       "      <td>3 Seasons</td>\n",
       "      <td>...</td>\n",
       "      <td>TV Show</td>\n",
       "      <td>NaN</td>\n",
       "      <td>Kyle Breitkopf, Jacob Ursomarzo, Addison Holley</td>\n",
       "      <td>France, United Kingdom</td>\n",
       "      <td>2021-10-20</td>\n",
       "      <td>2015</td>\n",
       "      <td>TV-Y7</td>\n",
       "      <td>5 Seasons</td>\n",
       "      <td>Action-Adventure, Animation, Kids</td>\n",
       "      <td>Look out Night Time Baddies the PJ Masks are c...</td>\n",
       "    </tr>\n",
       "    <tr>\n",
       "      <th>1</th>\n",
       "      <td>s1571</td>\n",
       "      <td>TV Show</td>\n",
       "      <td>Once Upon a Time</td>\n",
       "      <td>NaN</td>\n",
       "      <td>Ruby, Mohamed Farraag, Ahmed Dawood, Sawsan Ba...</td>\n",
       "      <td>Egypt</td>\n",
       "      <td>2020-12-09</td>\n",
       "      <td>2019</td>\n",
       "      <td>TV-14</td>\n",
       "      <td>1 Season</td>\n",
       "      <td>...</td>\n",
       "      <td>TV Show</td>\n",
       "      <td>NaN</td>\n",
       "      <td>Ginnifer Goodwin, Jennifer Morrison, Robert Ca...</td>\n",
       "      <td>United States</td>\n",
       "      <td>2020-09-18</td>\n",
       "      <td>2011</td>\n",
       "      <td>TV-PG</td>\n",
       "      <td>7 Seasons</td>\n",
       "      <td>Action-Adventure, Fantasy, Soap Opera / Melodrama</td>\n",
       "      <td>Fairy tale characters inhabit a land of good a...</td>\n",
       "    </tr>\n",
       "    <tr>\n",
       "      <th>2</th>\n",
       "      <td>s2226</td>\n",
       "      <td>TV Show</td>\n",
       "      <td>Gigantosaurus</td>\n",
       "      <td>NaN</td>\n",
       "      <td>NaN</td>\n",
       "      <td>France</td>\n",
       "      <td>2020-07-18</td>\n",
       "      <td>2019</td>\n",
       "      <td>TV-Y</td>\n",
       "      <td>1 Season</td>\n",
       "      <td>...</td>\n",
       "      <td>TV Show</td>\n",
       "      <td>NaN</td>\n",
       "      <td>Dylan Schombing, Áine Sunderland, Nahanni Mitc...</td>\n",
       "      <td>France</td>\n",
       "      <td>2021-08-25</td>\n",
       "      <td>2018</td>\n",
       "      <td>TV-Y</td>\n",
       "      <td>2 Seasons</td>\n",
       "      <td>Action-Adventure, Animation, Kids</td>\n",
       "      <td>Four dinos explore the mystery of the Gigantos...</td>\n",
       "    </tr>\n",
       "    <tr>\n",
       "      <th>3</th>\n",
       "      <td>s2560</td>\n",
       "      <td>Movie</td>\n",
       "      <td>Becoming</td>\n",
       "      <td>Nadia Hallgren</td>\n",
       "      <td>Michelle Obama</td>\n",
       "      <td>United States</td>\n",
       "      <td>2020-05-06</td>\n",
       "      <td>2020</td>\n",
       "      <td>PG</td>\n",
       "      <td>89 min</td>\n",
       "      <td>...</td>\n",
       "      <td>TV Show</td>\n",
       "      <td>NaN</td>\n",
       "      <td>NaN</td>\n",
       "      <td>United States</td>\n",
       "      <td>2020-09-18</td>\n",
       "      <td>2020</td>\n",
       "      <td>TV-PG</td>\n",
       "      <td>1 Season</td>\n",
       "      <td>Anthology, Docuseries, Family</td>\n",
       "      <td>Becoming chronicles the origin stories of worl...</td>\n",
       "    </tr>\n",
       "    <tr>\n",
       "      <th>4</th>\n",
       "      <td>s4095</td>\n",
       "      <td>Movie</td>\n",
       "      <td>Genius</td>\n",
       "      <td>Suseenthiran</td>\n",
       "      <td>Roshan, Priyaa Lal, Aadukalam Naren, Singam Pu...</td>\n",
       "      <td>India</td>\n",
       "      <td>2019-02-17</td>\n",
       "      <td>2018</td>\n",
       "      <td>TV-14</td>\n",
       "      <td>96 min</td>\n",
       "      <td>...</td>\n",
       "      <td>Movie</td>\n",
       "      <td>Rod Daniel</td>\n",
       "      <td>Trevor Morgan, Emmy Rossum, Yannick Bisson, Pe...</td>\n",
       "      <td>United States</td>\n",
       "      <td>2019-11-12</td>\n",
       "      <td>1999</td>\n",
       "      <td>TV-G</td>\n",
       "      <td>86 min</td>\n",
       "      <td>Comedy, Coming of Age</td>\n",
       "      <td>A teen genius juggles the roles of college stu...</td>\n",
       "    </tr>\n",
       "  </tbody>\n",
       "</table>\n",
       "<p>5 rows × 23 columns</p>\n",
       "</div>"
      ],
      "text/plain": [
       "  show_id_x   type_x             title      director_x  \\\n",
       "0     s1015  TV Show          PJ Masks             NaN   \n",
       "1     s1571  TV Show  Once Upon a Time             NaN   \n",
       "2     s2226  TV Show     Gigantosaurus             NaN   \n",
       "3     s2560    Movie          Becoming  Nadia Hallgren   \n",
       "4     s4095    Movie            Genius    Suseenthiran   \n",
       "\n",
       "                                              cast_x               country_x  \\\n",
       "0      Jacob Ewaniuk, Kyle Breitkopf, Addison Holley  France, United Kingdom   \n",
       "1  Ruby, Mohamed Farraag, Ahmed Dawood, Sawsan Ba...                   Egypt   \n",
       "2                                                NaN                  France   \n",
       "3                                     Michelle Obama           United States   \n",
       "4  Roshan, Priyaa Lal, Aadukalam Naren, Singam Pu...                   India   \n",
       "\n",
       "  date_added_x  release_year_x rating_x duration_x  ...   type_y  director_y  \\\n",
       "0   2021-04-19            2019     TV-Y  3 Seasons  ...  TV Show         NaN   \n",
       "1   2020-12-09            2019    TV-14   1 Season  ...  TV Show         NaN   \n",
       "2   2020-07-18            2019     TV-Y   1 Season  ...  TV Show         NaN   \n",
       "3   2020-05-06            2020       PG     89 min  ...  TV Show         NaN   \n",
       "4   2019-02-17            2018    TV-14     96 min  ...    Movie  Rod Daniel   \n",
       "\n",
       "                                              cast_y               country_y  \\\n",
       "0    Kyle Breitkopf, Jacob Ursomarzo, Addison Holley  France, United Kingdom   \n",
       "1  Ginnifer Goodwin, Jennifer Morrison, Robert Ca...           United States   \n",
       "2  Dylan Schombing, Áine Sunderland, Nahanni Mitc...                  France   \n",
       "3                                                NaN           United States   \n",
       "4  Trevor Morgan, Emmy Rossum, Yannick Bisson, Pe...           United States   \n",
       "\n",
       "  date_added_y release_year_y rating_y duration_y  \\\n",
       "0   2021-10-20           2015    TV-Y7  5 Seasons   \n",
       "1   2020-09-18           2011    TV-PG  7 Seasons   \n",
       "2   2021-08-25           2018     TV-Y  2 Seasons   \n",
       "3   2020-09-18           2020    TV-PG   1 Season   \n",
       "4   2019-11-12           1999     TV-G     86 min   \n",
       "\n",
       "                                         listed_in_y  \\\n",
       "0                  Action-Adventure, Animation, Kids   \n",
       "1  Action-Adventure, Fantasy, Soap Opera / Melodrama   \n",
       "2                  Action-Adventure, Animation, Kids   \n",
       "3                      Anthology, Docuseries, Family   \n",
       "4                              Comedy, Coming of Age   \n",
       "\n",
       "                                       description_y  \n",
       "0  Look out Night Time Baddies the PJ Masks are c...  \n",
       "1  Fairy tale characters inhabit a land of good a...  \n",
       "2  Four dinos explore the mystery of the Gigantos...  \n",
       "3  Becoming chronicles the origin stories of worl...  \n",
       "4  A teen genius juggles the roles of college stu...  \n",
       "\n",
       "[5 rows x 23 columns]"
      ]
     },
     "execution_count": 7,
     "metadata": {},
     "output_type": "execute_result"
    }
   ],
   "source": [
    "pd.merge(netflix_titles_df, disneyp_titles_df, on=\"title\", how=\"inner\").head()"
   ]
  },
  {
   "attachments": {},
   "cell_type": "markdown",
   "metadata": {},
   "source": [
    "* Cambio de datos \"NaN\" por datos existentes en otro catálogo\n",
    "\n",
    "Se puede observar que existen datos nulos en un catálogo que se pueden completar utilizando datos del otro catálogo para enriquecer la salida final de ambos catálogos. Como ejemplo, se podría completar el director de una película que aparece como \"NaN\" en un catálogo, que tiene ese dato válido en el otro catálogo."
   ]
  },
  {
   "cell_type": "code",
   "execution_count": 8,
   "metadata": {},
   "outputs": [],
   "source": [
    "def completar_catalogo_con(cat_df1, cat_df2):\n",
    "    \"\"\"Completa los campos 'director', 'cast' y 'description' que sean 'NaN' en 'cat_df1'\n",
    "       con los mismos campos de 'cat_df2' que si tengan un valor válido\n",
    "\n",
    "       Precond: Ambos dataframes deben tener los siguientes campos en el siguiente orden:\n",
    "                'show_id', 'type', 'title', 'director', 'cast', 'country', 'date_added',\n",
    "                'release_year', 'rating', 'duration', 'listed_in' y 'description'.\n",
    "\n",
    "       Args:\n",
    "          cat_df1(Pandas dataframe): El catalogo a completar con valores de 'cat_df2'.\n",
    "          cat_df2(Pandas dataframe): El catalogo que se va a utilizar para completar datos \n",
    "                                    de 'cat_df1'.\n",
    "\n",
    "       Returns:\n",
    "         Pandas dataframe: Retorna un dataframe de Pandas con los datos de 'cat_df1' pero\n",
    "                           con campos que antes eran 'NaN' y se completaron con datos\n",
    "                           de 'cat_df2' que resultaron útiles para 'cat_df1'.\n",
    "\n",
    "       Notes:\n",
    "         'cat_df1' obtiene datos de 'cat_df2' siempre y cuando el valor del campo 'title'\n",
    "         coincida entre los dataframes.\n",
    "         \n",
    "    \"\"\"\n",
    "    # Realiza un left join entre \"cat_df1\" y \"cat_df2\", si \"title\" de \"cat_df1\" no coincide con\n",
    "    # ningun campo \"title\" de \"cat_df2\", entonces se hace un join de los datos de \"cat_df1\"\n",
    "    # con valores \"NaN\"\n",
    "    df_merge = pd.merge(cat_df1, cat_df2, on='title', how='left')\n",
    "\n",
    "    # Se rellenan los campos \"NaN\" de \"cat_df1\" cuando sea posible recuperar datos de \"cat_df2\"\n",
    "    df_merge[\"director_x\"].fillna(df_merge[\"director_y\"], inplace=True)\n",
    "    df_merge[\"cast_x\"].fillna(df_merge[\"cast_y\"], inplace=True)\n",
    "    df_merge[\"description_x\"].fillna(df_merge[\"description_y\"], inplace=True)\n",
    "\n",
    "    # Se borran las celdas que eran de \"cat_df2\"\n",
    "    df_merge.drop(\"show_id_y\", axis=1, inplace=True)\n",
    "    df_merge.drop(\"type_y\", axis=1, inplace=True)\n",
    "    df_merge.drop(\"director_y\", axis=1, inplace=True)\n",
    "    df_merge.drop(\"cast_y\", axis=1, inplace=True)\n",
    "    df_merge.drop(\"country_y\", axis=1, inplace=True)\n",
    "    df_merge.drop(\"date_added_y\", axis=1, inplace=True)\n",
    "    df_merge.drop(\"release_year_y\", axis=1, inplace=True)\n",
    "    df_merge.drop(\"rating_y\", axis=1, inplace=True)\n",
    "    df_merge.drop(\"duration_y\", axis=1, inplace=True)\n",
    "    df_merge.drop(\"listed_in_y\", axis=1, inplace=True)\n",
    "    df_merge.drop(\"description_y\", axis=1, inplace=True)\n",
    "\n",
    "    # Se renombran las celdas que eran de \"cat_df1\" de manera correcta\n",
    "    df_merge.rename(columns={'show_id_x': 'show_id',\n",
    "                               'type_x': 'type',\n",
    "                               'director_x': 'director',\n",
    "                               'cast_x': 'cast',\n",
    "                               'country_x': 'country',\n",
    "                               'date_added_x': 'date_added',\n",
    "                               'release_year_x': 'release_year',\n",
    "                               'rating_x': 'rating',\n",
    "                               'duration_x': 'duration',\n",
    "                               'listed_in_x': 'listed_in',\n",
    "                               'description_x': 'description'}, inplace=True)\n",
    "    return df_merge\n",
    "\n",
    "clean_disneyp_titles_df = completar_catalogo_con(disneyp_titles_df, netflix_titles_df)\n",
    "clean_netflix_titles_df = completar_catalogo_con(netflix_titles_df, disneyp_titles_df)"
   ]
  },
  {
   "attachments": {},
   "cell_type": "markdown",
   "metadata": {},
   "source": [
    "# Final\n",
    "\n",
    "Los archivos listos para comenzar con el modelado de datos y proceder con la carga a la base de datos relacional."
   ]
  }
 ],
 "metadata": {
  "kernelspec": {
   "display_name": "Python 3",
   "language": "python",
   "name": "python3"
  },
  "language_info": {
   "codemirror_mode": {
    "name": "ipython",
    "version": 3
   },
   "file_extension": ".py",
   "mimetype": "text/x-python",
   "name": "python",
   "nbconvert_exporter": "python",
   "pygments_lexer": "ipython3",
   "version": "3.10.2"
  },
  "orig_nbformat": 4
 },
 "nbformat": 4,
 "nbformat_minor": 2
}
